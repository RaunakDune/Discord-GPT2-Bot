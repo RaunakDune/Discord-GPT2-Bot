{
 "cells": [
  {
   "cell_type": "code",
   "execution_count": 1,
   "metadata": {},
   "outputs": [],
   "source": [
    "import pandas as pd"
   ]
  },
  {
   "cell_type": "code",
   "execution_count": 2,
   "metadata": {},
   "outputs": [],
   "source": [
    "filename = 'D:\\Code\\Discord bot\\wipe -destiny-pc-lfg.csv'\n",
    "dff = pd.read_csv(filename, index_col=None, header=0)"
   ]
  },
  {
   "cell_type": "code",
   "execution_count": 3,
   "metadata": {},
   "outputs": [
    {
     "data": {
      "text/html": [
       "<div>\n",
       "<style scoped>\n",
       "    .dataframe tbody tr th:only-of-type {\n",
       "        vertical-align: middle;\n",
       "    }\n",
       "\n",
       "    .dataframe tbody tr th {\n",
       "        vertical-align: top;\n",
       "    }\n",
       "\n",
       "    .dataframe thead th {\n",
       "        text-align: right;\n",
       "    }\n",
       "</style>\n",
       "<table border=\"1\" class=\"dataframe\">\n",
       "  <thead>\n",
       "    <tr style=\"text-align: right;\">\n",
       "      <th></th>\n",
       "      <th>AuthorID</th>\n",
       "      <th>Author</th>\n",
       "      <th>Date</th>\n",
       "      <th>Content</th>\n",
       "      <th>Attachments</th>\n",
       "      <th>Reactions</th>\n",
       "    </tr>\n",
       "  </thead>\n",
       "  <tbody>\n",
       "    <tr>\n",
       "      <th>0</th>\n",
       "      <td>263138157178912768</td>\n",
       "      <td>supremeyeet#0069</td>\n",
       "      <td>26-Nov-17 12:32 AM</td>\n",
       "      <td>Anyone for PC Iron Banner?</td>\n",
       "      <td>NaN</td>\n",
       "      <td>NaN</td>\n",
       "    </tr>\n",
       "    <tr>\n",
       "      <th>1</th>\n",
       "      <td>109377329481940992</td>\n",
       "      <td>atonal440#1587</td>\n",
       "      <td>26-Nov-17 12:39 AM</td>\n",
       "      <td>Too late for me, sorry</td>\n",
       "      <td>NaN</td>\n",
       "      <td>NaN</td>\n",
       "    </tr>\n",
       "    <tr>\n",
       "      <th>2</th>\n",
       "      <td>352892946980536321</td>\n",
       "      <td>Archaedes#3195</td>\n",
       "      <td>15-Jan-18 10:35 PM</td>\n",
       "      <td>Anyone for Nightfall?</td>\n",
       "      <td>NaN</td>\n",
       "      <td>NaN</td>\n",
       "    </tr>\n",
       "    <tr>\n",
       "      <th>3</th>\n",
       "      <td>231780266446815233</td>\n",
       "      <td>wpgjets92#0358</td>\n",
       "      <td>15-Jan-18 10:39 PM</td>\n",
       "      <td>May want to try pinging people for it with @here</td>\n",
       "      <td>NaN</td>\n",
       "      <td>NaN</td>\n",
       "    </tr>\n",
       "    <tr>\n",
       "      <th>4</th>\n",
       "      <td>352892946980536321</td>\n",
       "      <td>Archaedes#3195</td>\n",
       "      <td>15-Jan-18 10:41 PM</td>\n",
       "      <td>Well I didnt want to bug anyone who didnt play...</td>\n",
       "      <td>NaN</td>\n",
       "      <td>NaN</td>\n",
       "    </tr>\n",
       "  </tbody>\n",
       "</table>\n",
       "</div>"
      ],
      "text/plain": [
       "             AuthorID            Author                Date  \\\n",
       "0  263138157178912768  supremeyeet#0069  26-Nov-17 12:32 AM   \n",
       "1  109377329481940992    atonal440#1587  26-Nov-17 12:39 AM   \n",
       "2  352892946980536321    Archaedes#3195  15-Jan-18 10:35 PM   \n",
       "3  231780266446815233    wpgjets92#0358  15-Jan-18 10:39 PM   \n",
       "4  352892946980536321    Archaedes#3195  15-Jan-18 10:41 PM   \n",
       "\n",
       "                                             Content Attachments Reactions  \n",
       "0                         Anyone for PC Iron Banner?         NaN       NaN  \n",
       "1                             Too late for me, sorry         NaN       NaN  \n",
       "2                              Anyone for Nightfall?         NaN       NaN  \n",
       "3   May want to try pinging people for it with @here         NaN       NaN  \n",
       "4  Well I didnt want to bug anyone who didnt play...         NaN       NaN  "
      ]
     },
     "execution_count": 3,
     "metadata": {},
     "output_type": "execute_result"
    }
   ],
   "source": [
    "dff.head()"
   ]
  },
  {
   "cell_type": "code",
   "execution_count": 4,
   "metadata": {},
   "outputs": [
    {
     "data": {
      "text/plain": [
       "pandas.core.frame.DataFrame"
      ]
     },
     "execution_count": 4,
     "metadata": {},
     "output_type": "execute_result"
    }
   ],
   "source": [
    "type(dff)"
   ]
  },
  {
   "cell_type": "code",
   "execution_count": 10,
   "metadata": {},
   "outputs": [
    {
     "name": "stdout",
     "output_type": "stream",
     "text": [
      "RangeIndex(start=0, stop=38216, step=1)\n"
     ]
    }
   ],
   "source": [
    "print(dff.index)"
   ]
  },
  {
   "cell_type": "code",
   "execution_count": 47,
   "metadata": {},
   "outputs": [],
   "source": [
    "validList = []\n",
    "iter = 0\n",
    "for row in dff.itertuples(index = True, name = 'Pandas'):\n",
    "    try:\n",
    "        iter += 1\n",
    "        if('leveled up!**' in row.Content or 'Charlemagne' in row.Content or 'Charlemagne' in row.Author):\n",
    "            continue\n",
    "        #print(str(iter), row.Author[:-5], row.Content)\n",
    "        validList.append([row.Author[:-5], row.Content])\n",
    "    except:\n",
    "        continue\n"
   ]
  },
  {
   "cell_type": "code",
   "execution_count": 52,
   "metadata": {},
   "outputs": [
    {
     "data": {
      "text/html": [
       "<div>\n",
       "<style scoped>\n",
       "    .dataframe tbody tr th:only-of-type {\n",
       "        vertical-align: middle;\n",
       "    }\n",
       "\n",
       "    .dataframe tbody tr th {\n",
       "        vertical-align: top;\n",
       "    }\n",
       "\n",
       "    .dataframe thead th {\n",
       "        text-align: right;\n",
       "    }\n",
       "</style>\n",
       "<table border=\"1\" class=\"dataframe\">\n",
       "  <thead>\n",
       "    <tr style=\"text-align: right;\">\n",
       "      <th></th>\n",
       "      <th>Author</th>\n",
       "      <th>Content</th>\n",
       "    </tr>\n",
       "  </thead>\n",
       "  <tbody>\n",
       "    <tr>\n",
       "      <th>0</th>\n",
       "      <td>supremeyeet</td>\n",
       "      <td>Anyone for PC Iron Banner?</td>\n",
       "    </tr>\n",
       "    <tr>\n",
       "      <th>1</th>\n",
       "      <td>atonal440</td>\n",
       "      <td>Too late for me, sorry</td>\n",
       "    </tr>\n",
       "    <tr>\n",
       "      <th>2</th>\n",
       "      <td>Archaedes</td>\n",
       "      <td>Anyone for Nightfall?</td>\n",
       "    </tr>\n",
       "    <tr>\n",
       "      <th>3</th>\n",
       "      <td>wpgjets92</td>\n",
       "      <td>May want to try pinging people for it with @here</td>\n",
       "    </tr>\n",
       "    <tr>\n",
       "      <th>4</th>\n",
       "      <td>Archaedes</td>\n",
       "      <td>Well I didnt want to bug anyone who didnt play...</td>\n",
       "    </tr>\n",
       "  </tbody>\n",
       "</table>\n",
       "</div>"
      ],
      "text/plain": [
       "        Author                                            Content\n",
       "0  supremeyeet                         Anyone for PC Iron Banner?\n",
       "1    atonal440                             Too late for me, sorry\n",
       "2    Archaedes                              Anyone for Nightfall?\n",
       "3    wpgjets92   May want to try pinging people for it with @here\n",
       "4    Archaedes  Well I didnt want to bug anyone who didnt play..."
      ]
     },
     "execution_count": 52,
     "metadata": {},
     "output_type": "execute_result"
    }
   ],
   "source": [
    "df = pd.DataFrame(validList, columns=['Author', 'Content'])\n",
    "df.head()"
   ]
  },
  {
   "cell_type": "code",
   "execution_count": 53,
   "metadata": {},
   "outputs": [],
   "source": [
    "(df['Author'] + ' [SEP] ' + df['Content'] ).to_csv('gpt2_finetune.csv', index=False, header=True)"
   ]
  },
  {
   "cell_type": "code",
   "execution_count": 54,
   "metadata": {},
   "outputs": [],
   "source": [
    "df['Content'].drop_duplicates().to_csv('gpt2_generate.csv', index=False, header=True)"
   ]
  },
  {
   "cell_type": "code",
   "execution_count": 55,
   "metadata": {},
   "outputs": [],
   "source": [
    "df['real']=1"
   ]
  },
  {
   "cell_type": "code",
   "execution_count": 56,
   "metadata": {},
   "outputs": [],
   "source": [
    "df[['Content','Author','real']].to_csv('bert_gan_real.csv', index=False, header=True)"
   ]
  },
  {
   "cell_type": "code",
   "execution_count": null,
   "metadata": {},
   "outputs": [],
   "source": []
  }
 ],
 "metadata": {
  "kernelspec": {
   "display_name": "Python 3",
   "language": "python",
   "name": "python3"
  },
  "language_info": {
   "codemirror_mode": {
    "name": "ipython",
    "version": 3
   },
   "file_extension": ".py",
   "mimetype": "text/x-python",
   "name": "python",
   "nbconvert_exporter": "python",
   "pygments_lexer": "ipython3",
   "version": "3.7.0a4"
  }
 },
 "nbformat": 4,
 "nbformat_minor": 2
}
